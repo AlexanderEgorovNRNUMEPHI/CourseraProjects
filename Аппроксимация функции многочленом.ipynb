{
 "cells": [
  {
   "cell_type": "code",
   "execution_count": 177,
   "metadata": {},
   "outputs": [],
   "source": [
    "import numpy as np\n",
    "import math as mt\n",
    "from numpy import linalg as LA\n"
   ]
  },
  {
   "cell_type": "code",
   "execution_count": 229,
   "metadata": {},
   "outputs": [
    {
     "name": "stdout",
     "output_type": "stream",
     "text": [
      "[ 1.  4. 10. 15.]\n"
     ]
    }
   ],
   "source": [
    "#1 степень многочлена\n",
    "x = np.array([1.,4.,10.,15.])\n",
    "print(x)"
   ]
  },
  {
   "cell_type": "code",
   "execution_count": 235,
   "metadata": {},
   "outputs": [
    {
     "data": {
      "text/plain": [
       "[3.252216865271419, 1.7468459495903677, 2.5054164070002463, 0.6352214195786656]"
      ]
     },
     "execution_count": 235,
     "metadata": {},
     "output_type": "execute_result"
    }
   ],
   "source": [
    "i=0\n",
    "f= np.zeros(len(x), float)\n",
    "f0= np.zeros(len(x), float)\n",
    "for i in range(len(x)):\n",
    "    f[i]=(mt.sin((x[i])/5.))*(mt.exp((x[i])/10.))+5.*(mt.exp((-x[i])/2.))\n",
    "    f0[i]=(mt.sin(0/5.))*(mt.exp(0/10.))+5.*(mt.exp(0/2.))\n",
    "b=f\n",
    "list(b)\n",
    "#b=b.tolist()"
   ]
  },
  {
   "cell_type": "code",
   "execution_count": 239,
   "metadata": {},
   "outputs": [],
   "source": [
    "A=[[1,(x[0])**1.,(x[0])**2.,(x[0])**3.],[1,(x[1])**1.,(x[1])**2.,(x[1])**3.],[1,(x[2])**1.,(x[2])**2.,(x[2])**3.],[1,(x[3])**1.,(x[3])**2.,(x[3])**3.]]"
   ]
  },
  {
   "cell_type": "code",
   "execution_count": 240,
   "metadata": {},
   "outputs": [
    {
     "data": {
      "text/plain": [
       "[[1, 1.0, 1.0, 1.0],\n",
       " [1, 4.0, 16.0, 64.0],\n",
       " [1, 10.0, 100.0, 1000.0],\n",
       " [1, 15.0, 225.0, 3375.0]]"
      ]
     },
     "execution_count": 240,
     "metadata": {},
     "output_type": "execute_result"
    }
   ],
   "source": [
    "A"
   ]
  },
  {
   "cell_type": "code",
   "execution_count": 241,
   "metadata": {},
   "outputs": [],
   "source": [
    " w = LA.solve(A,b)"
   ]
  },
  {
   "cell_type": "code",
   "execution_count": 242,
   "metadata": {},
   "outputs": [
    {
     "data": {
      "text/plain": [
       "array([ 4.36264154, -1.29552587,  0.19333685, -0.00823565])"
      ]
     },
     "execution_count": 242,
     "metadata": {},
     "output_type": "execute_result"
    }
   ],
   "source": [
    "w"
   ]
  }
 ],
 "metadata": {
  "kernelspec": {
   "display_name": "Python 3",
   "language": "python",
   "name": "python3"
  },
  "language_info": {
   "codemirror_mode": {
    "name": "ipython",
    "version": 3
   },
   "file_extension": ".py",
   "mimetype": "text/x-python",
   "name": "python",
   "nbconvert_exporter": "python",
   "pygments_lexer": "ipython3",
   "version": "3.8.3"
  }
 },
 "nbformat": 4,
 "nbformat_minor": 4
}
