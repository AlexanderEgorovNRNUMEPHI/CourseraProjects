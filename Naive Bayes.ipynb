{
 "cells": [
  {
   "cell_type": "code",
   "execution_count": 1,
   "metadata": {},
   "outputs": [],
   "source": [
    "%matplotlib inline\n",
    "\n",
    "import numpy as np\n",
    "from sklearn.datasets import load_digits, load_breast_cancer\n",
    "from sklearn.model_selection import cross_val_score\n",
    "from sklearn.naive_bayes import BernoulliNB, MultinomialNB, GaussianNB"
   ]
  },
  {
   "cell_type": "code",
   "execution_count": 2,
   "metadata": {},
   "outputs": [],
   "source": [
    "#loading datasets\n",
    "digits = load_digits()\n",
    "X_dig = digits.data\n",
    "y_dig = digits.target\n",
    "\n",
    "breast_cancer = load_breast_cancer()\n",
    "X_br_can = breast_cancer.data\n",
    "y_br_can = breast_cancer.target"
   ]
  },
  {
   "cell_type": "code",
   "execution_count": 3,
   "metadata": {},
   "outputs": [],
   "source": [
    "#Initializing Naive Bayes classifiers\n",
    "bnb = BernoulliNB()\n",
    "mnb = MultinomialNB()\n",
    "gnb = GaussianNB()"
   ]
  },
  {
   "cell_type": "code",
   "execution_count": 6,
   "metadata": {},
   "outputs": [],
   "source": [
    "#Cross-validation of classifiers\n",
    "score_bnb_dig = cross_val_score(bnb, X_dig, y_dig)\n",
    "score_bnb_br_can = cross_val_score(bnb, X_br_can, y_br_can)\n",
    "\n",
    "score_mnb_dig = cross_val_score(mnb, X_dig, y_dig)\n",
    "score_mnb_br_can = cross_val_score(mnb, X_br_can, y_br_can)\n",
    "\n",
    "score_gnb_dig = cross_val_score(gnb, X_dig, y_dig)\n",
    "score_gnb_br_can = cross_val_score(gnb, X_br_can, y_br_can)"
   ]
  },
  {
   "cell_type": "code",
   "execution_count": 7,
   "metadata": {},
   "outputs": [
    {
     "name": "stdout",
     "output_type": "stream",
     "text": [
      "Digits dataset\n",
      "BernoulliNB mean cross_val_score: 0.8241736304549674\n",
      "MultinomialNB mean cross_val_score: 0.8703497369235531\n",
      "GaussianNB mean cross_val_score: 0.8069281956050759\n"
     ]
    }
   ],
   "source": [
    "print('Digits dataset')\n",
    "print('BernoulliNB mean cross_val_score: ' + str(score_bnb_dig.mean()))\n",
    "print('MultinomialNB mean cross_val_score: ' + str(score_mnb_dig.mean()))\n",
    "print('GaussianNB mean cross_val_score: ' + str(score_gnb_dig.mean()))"
   ]
  },
  {
   "cell_type": "code",
   "execution_count": 8,
   "metadata": {},
   "outputs": [
    {
     "name": "stdout",
     "output_type": "stream",
     "text": [
      "Breast cancer dataset\n",
      "BernoulliNB mean cross_val_score: 0.6274181027790716\n",
      "MultinomialNB mean cross_val_score: 0.8963204471355379\n",
      "GaussianNB mean cross_val_score: 0.9385188635305075\n"
     ]
    }
   ],
   "source": [
    "print('Breast cancer dataset')\n",
    "print('BernoulliNB mean cross_val_score: ' + str(score_bnb_br_can.mean()))\n",
    "print('MultinomialNB mean cross_val_score: ' + str(score_mnb_br_can.mean()))\n",
    "print('GaussianNB mean cross_val_score: ' + str(score_gnb_br_can.mean()))"
   ]
  },
  {
   "cell_type": "code",
   "execution_count": 12,
   "metadata": {},
   "outputs": [],
   "source": [
    "with open('Naive Bayes1.txt', 'w') as fout:\n",
    "    fout.write(str(np.max([score_bnb_br_can.mean(), score_mnb_br_can.mean(), score_gnb_br_can.mean()])))"
   ]
  },
  {
   "cell_type": "code",
   "execution_count": 13,
   "metadata": {},
   "outputs": [],
   "source": [
    "with open('Naive Bayes2.txt', 'w') as fout:\n",
    "    fout.write(str(np.max([score_bnb_dig.mean(), score_mnb_dig.mean(), score_gnb_dig.mean()])))"
   ]
  },
  {
   "cell_type": "code",
   "execution_count": 14,
   "metadata": {},
   "outputs": [],
   "source": [
    "answer = '3' + ' ' + '4'\n",
    "with open('Naive Bayes3.txt', 'w') as fout:\n",
    "    fout.write(answer)\n"
   ]
  },
  {
   "cell_type": "code",
   "execution_count": null,
   "metadata": {},
   "outputs": [],
   "source": []
  }
 ],
 "metadata": {
  "kernelspec": {
   "display_name": "Python 3",
   "language": "python",
   "name": "python3"
  },
  "language_info": {
   "codemirror_mode": {
    "name": "ipython",
    "version": 3
   },
   "file_extension": ".py",
   "mimetype": "text/x-python",
   "name": "python",
   "nbconvert_exporter": "python",
   "pygments_lexer": "ipython3",
   "version": "3.7.6"
  }
 },
 "nbformat": 4,
 "nbformat_minor": 4
}
