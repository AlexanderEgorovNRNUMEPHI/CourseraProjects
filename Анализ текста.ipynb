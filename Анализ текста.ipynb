{
 "cells": [
  {
   "cell_type": "code",
   "execution_count": 34,
   "metadata": {},
   "outputs": [],
   "source": [
    "import numpy as np"
   ]
  },
  {
   "cell_type": "code",
   "execution_count": 35,
   "metadata": {},
   "outputs": [],
   "source": [
    "import re"
   ]
  },
  {
   "cell_type": "code",
   "execution_count": 36,
   "metadata": {},
   "outputs": [],
   "source": [
    "from scipy.spatial import distance"
   ]
  },
  {
   "cell_type": "code",
   "execution_count": 37,
   "metadata": {},
   "outputs": [
    {
     "name": "stdout",
     "output_type": "stream",
     "text": [
      "['In comparison to dogs, cats have not undergone major changes during the domestication process.', 'As cat simply catenates streams of bytes, it can be also used to concatenate binary files, where it will just concatenate sequence of bytes.', 'A common interactive use of cat for a single file is to output the content of a file to standard output.', 'Cats can hear sounds too faint or too high in frequency for human ears, such as those made by mice and other small animals.', 'In one, people deliberately tamed cats in a process of artificial selection, as they were useful predators of vermin.', 'The domesticated cat and its closest wild ancestor are both diploid organisms that possess 38 chromosomes and roughly 20,000 genes.', 'Domestic cats are similar in size to the other members of the genus Felis, typically weighing between 4 and 5 kg (8.8 and 11.0 lb).', 'However, if the output is piped or redirected, cat is unnecessary.', 'cat with one named file is safer where human error is a concern - one wrong use of the default redirection symbol \">\" instead of \"<\" (often adjacent on keyboards) may permanently delete the file you were just needing to read.', 'In terms of legibility, a sequence of commands starting with cat and connected by pipes has a clear left-to-right flow of information.', 'Cat command is one of the basic commands that you learned when you started in the Unix / Linux world.', 'Using cat command, the lines received from stdin can be redirected to a new file using redirection symbols.', 'When you type simply cat command without any arguments, it just receives the stdin content and displays it in the stdout.', 'Leopard was released on October 26, 2007 as the successor of Tiger (version 10.4), and is available in two editions.', 'According to Apple, Leopard contains over 300 changes and enhancements over its predecessor, Mac OS X Tiger.', 'As of Mid 2010, some Apple computers have firmware factory installed which will no longer allow installation of Mac OS X Leopard.', 'Since Apple moved to using Intel processors in their computers, the OSx86 community has developed and now also allows Mac OS X Tiger and later releases to be installed on non-Apple x86-based computers.', \"OS X Mountain Lion was released on July 25, 2012 for purchase and download through Apple's Mac App Store, as part of a switch to releasing OS X versions online and every year.\", 'Apple has released a small patch for the three most recent versions of Safari running on OS X Yosemite, Mavericks, and Mountain Lion.', 'The Mountain Lion release marks the second time Apple has offered an incremental upgrade, rather than releasing a new cat entirely.', \"Mac OS X Mountain Lion installs in place, so you won't need to create a separate disk or run the installation off an external drive.\", \"The fifth major update to Mac OS X, Leopard, contains such a mountain of features - more than 300 by Apple's count.\"]\n"
     ]
    }
   ],
   "source": [
    "with open('C:/Users/Administrator/Documents/python/sentences.txt', 'r')  as file:\n",
    "    np.arr = [row.strip() for row in file]\n",
    "    print(np.arr)"
   ]
  },
  {
   "cell_type": "code",
   "execution_count": 38,
   "metadata": {},
   "outputs": [],
   "source": [
    "stroka=[0]*len(np.arr)\n",
    "for i in range(len(np.arr)):\n",
    "    stroka[i]=np.arr[i]\n",
    "    stroka[i]=stroka[i].lower()\n"
   ]
  },
  {
   "cell_type": "code",
   "execution_count": 39,
   "metadata": {},
   "outputs": [],
   "source": [
    "for i in range(len(np.arr)):\n",
    "    stroka[i]= re.split('[^a-z]', stroka[i])\n",
    "    \n",
    "   "
   ]
  },
  {
   "cell_type": "code",
   "execution_count": 41,
   "metadata": {},
   "outputs": [],
   "source": [
    "with open('C:/Users/Administrator/Documents/python/sentences.txt', 'r')  as file:\n",
    "        lines = sum(1 for _ in file)\n",
    "        file.seek(0)\n",
    "        import re\n",
    "        words = {}\n",
    "        # The 'lcount' variable controlls the index of a current line in the text file,\n",
    "        # when the 'wcount' variable controlls the index of a unique word.\n",
    "        lcount, wcount = 0, 0\n",
    "        for line in file:\n",
    "            # Here we compile a pattern object, read a line from the text file,\n",
    "            # and split it into tokens (words).\n",
    "            p = re.compile(r\"[^a-z]+\")\n",
    "            tokens = p.split(line.lower())\n",
    "            # In this case we will have only one empty token at the end of a list.\n",
    "            # Let's remove it.\n",
    "            tokens.pop()\n",
    "            for token in tokens:\n",
    "                # If a token is not presented in the dictionary yet then we add it.\n",
    "                # The value of the 'occurrences' entry is a list object where every item represents\n",
    "                # a specific line in the text file. The first item represents the first line, the second item\n",
    "                # represents the sencond line etc. \n",
    "                if token not in words:\n",
    "                    words[token] = {\n",
    "                        \"index\": wcount,\n",
    "                        \"occurrences\": [0] * lines\n",
    "                       \n",
    "                    }\n",
    "                    wcount += 1\n",
    "                # If we find the same token in the same list of tokens (in the same line)\n",
    "                # then we just ignore it.\n",
    "                elif words[token][\"occurrences\"][lcount] != 0:\n",
    "                    continue\n",
    "                \n",
    "                # Here we register how many times a token occured in a list of tokens (in a line)    \n",
    "                words[token][\"occurrences\"][lcount] = tokens.count(token)    \n",
    "            lcount += 1\n",
    "             # Here we create a numpy-array, filled with zeros\n",
    "        arr = np.zeros((lines, len(words)))\n",
    "        \n",
    "        # Now for every word in the dictionary we take a number of its occurrences\n",
    "        # in every line and put it to the array.  \n",
    "        for word in words:\n",
    "            i, j = 0, words[word][\"index\"]\n",
    "            for occ in words[word][\"occurrences\"]:\n",
    "                arr[i, j] = occ\n",
    "                i += 1\n",
    "        dist = [] \n",
    "        u = arr[0,] \n",
    "        for i in range(1, lines):\n",
    "            v = arr[i,]\n",
    "            dist.append({\"index\": i, \"distance\": distance.cosine(u, v)}) \n",
    "            dist.sort(key=lambda x: x[\"distance\"])\n",
    "            "
   ]
  },
  {
   "cell_type": "code",
   "execution_count": 42,
   "metadata": {},
   "outputs": [
    {
     "data": {
      "text/plain": [
       "[{'index': 6, 'distance': 0.7327387580875756},\n",
       " {'index': 4, 'distance': 0.7770887149698589},\n",
       " {'index': 21, 'distance': 0.8250364469440588},\n",
       " {'index': 10, 'distance': 0.8328165362273942},\n",
       " {'index': 12, 'distance': 0.8396432548525454},\n",
       " {'index': 16, 'distance': 0.8406361854220809},\n",
       " {'index': 20, 'distance': 0.8427572744917122},\n",
       " {'index': 2, 'distance': 0.8644738145642124},\n",
       " {'index': 13, 'distance': 0.8703592552895671},\n",
       " {'index': 14, 'distance': 0.8740118423302576},\n",
       " {'index': 11, 'distance': 0.8804771390665607},\n",
       " {'index': 8, 'distance': 0.8842724875284311},\n",
       " {'index': 19, 'distance': 0.8885443574849294},\n",
       " {'index': 3, 'distance': 0.8951715163278082},\n",
       " {'index': 9, 'distance': 0.9055088817476932},\n",
       " {'index': 7, 'distance': 0.9258750683338899},\n",
       " {'index': 5, 'distance': 0.9402385695332803},\n",
       " {'index': 15, 'distance': 0.9442721787424647},\n",
       " {'index': 18, 'distance': 0.9442721787424647},\n",
       " {'index': 1, 'distance': 0.9527544408738466},\n",
       " {'index': 17, 'distance': 0.956644501523794}]"
      ]
     },
     "execution_count": 42,
     "metadata": {},
     "output_type": "execute_result"
    }
   ],
   "source": [
    "dist"
   ]
  },
  {
   "cell_type": "code",
   "execution_count": 46,
   "metadata": {},
   "outputs": [],
   "source": [
    "file_1 = open('C:/Users/Administrator/Documents/python/Python_prm1.txt', 'w')\n",
    "concl = [str(dist[0][\"index\"]),str(dist[1][\"index\"])]\n",
    "file_1.writelines(concl)\n",
    "file_1.close()"
   ]
  },
  {
   "cell_type": "code",
   "execution_count": 44,
   "metadata": {},
   "outputs": [
    {
     "name": "stdout",
     "output_type": "stream",
     "text": [
      "['6', '', '4']\n"
     ]
    }
   ],
   "source": [
    "print(concl)\n"
   ]
  },
  {
   "cell_type": "code",
   "execution_count": null,
   "metadata": {},
   "outputs": [],
   "source": []
  }
 ],
 "metadata": {
  "kernelspec": {
   "display_name": "Python 3",
   "language": "python",
   "name": "python3"
  },
  "language_info": {
   "codemirror_mode": {
    "name": "ipython",
    "version": 3
   },
   "file_extension": ".py",
   "mimetype": "text/x-python",
   "name": "python",
   "nbconvert_exporter": "python",
   "pygments_lexer": "ipython3",
   "version": "3.8.3"
  }
 },
 "nbformat": 4,
 "nbformat_minor": 4
}
